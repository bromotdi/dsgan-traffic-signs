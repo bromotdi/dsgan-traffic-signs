{
  "cells": [
    {
      "cell_type": "code",
      "execution_count": null,
      "metadata": {
        "id": "fVlVY9lf8aeS"
      },
      "outputs": [],
      "source": [
        "import torch\n",
        "from torch import nn\n",
        "import torch.nn.functional as F\n",
        "from src.model.dcgan.spectral_norm import spectral_norm as SN\n",
        "\n",
        "class Discriminator_SN(nn.Module):\n",
        "    def __init__(self, activasion_slope: float = 0.2) -> None:\n",
        "        super().__init__()\n",
        "        self.convolutions = nn.Sequential(\n",
        "            SN(nn.Conv2d(in_channels=3, out_channels=128, kernel_size=5, stride=2, padding=2)),\n",
        "            nn.LeakyReLU(negative_slope=activasion_slope),\n",
        "            SN(nn.Conv2d(in_channels=128, out_channels=256, kernel_size=5, stride=2, padding=2)),\n",
        "            nn.BatchNorm2d(num_features=256),\n",
        "            nn.LeakyReLU(negative_slope=activasion_slope),\n",
        "            SN(nn.Conv2d(in_channels=256, out_channels=512, kernel_size=5, stride=2, padding=2)),\n",
        "            nn.BatchNorm2d(num_features=512),\n",
        "            nn.LeakyReLU(negative_slope=activasion_slope),\n",
        "            SN(nn.Conv2d(in_channels=512, out_channels=1024, kernel_size=5, stride=2, padding=2)),\n",
        "            nn.BatchNorm2d(num_features=1024),\n",
        "            nn.LeakyReLU(negative_slope=activasion_slope)\n",
        "        )\n",
        "        self.clf = nn.Linear(in_features=1024 * 4 * 4, out_features=1)\n",
        "\n",
        "    def forward(self, x):\n",
        "        x = self.convolutions(x)\n",
        "        x = torch.flatten(x, start_dim=1)\n",
        "        x = self.clf(x)\n",
        "        x = F.sigmoid(x)\n",
        "        return x"
      ]
    },
    {
      "cell_type": "code",
      "execution_count": null,
      "metadata": {
        "id": "di2je9jsVtuC"
      },
      "outputs": [],
      "source": [
        "import torch\n",
        "from torch import nn\n",
        "import torch.nn.functional as F\n",
        "\n",
        "class Discriminator(nn.Module):\n",
        "    def __init__(self, activasion_slope: float = 0.2) -> None:\n",
        "        super().__init__()\n",
        "        self.convolutions = nn.Sequential(\n",
        "            nn.Conv2d(in_channels=3, out_channels=128, kernel_size=5, stride=2, padding=2),\n",
        "            nn.LeakyReLU(negative_slope=activasion_slope),\n",
        "            nn.Conv2d(in_channels=128, out_channels=256, kernel_size=5, stride=2, padding=2),\n",
        "            nn.BatchNorm2d(num_features=256),\n",
        "            nn.LeakyReLU(negative_slope=activasion_slope),\n",
        "            nn.Conv2d(in_channels=256, out_channels=512, kernel_size=5, stride=2, padding=2),\n",
        "            nn.BatchNorm2d(num_features=512),\n",
        "            nn.LeakyReLU(negative_slope=activasion_slope),\n",
        "            nn.Conv2d(in_channels=512, out_channels=1024, kernel_size=5, stride=2, padding=2),\n",
        "            nn.BatchNorm2d(num_features=1024),\n",
        "            nn.LeakyReLU(negative_slope=activasion_slope)\n",
        "        )\n",
        "        self.clf = nn.Linear(in_features=1024 * 4 * 4, out_features=1)\n",
        "\n",
        "    def forward(self, x):\n",
        "        x = self.convolutions(x)\n",
        "        x = torch.flatten(x, start_dim=1)\n",
        "        x = self.clf(x)\n",
        "        x = F.sigmoid(x)\n",
        "        return x"
      ]
    },
    {
      "cell_type": "code",
      "execution_count": null,
      "metadata": {
        "id": "PNRmJipo8lMF"
      },
      "outputs": [],
      "source": [
        "import torch\n",
        "from torch import nn\n",
        "import torch.nn.functional as F\n",
        "\n",
        "class Generator(nn.Module):\n",
        "    def __init__(self, latent_dim: int):\n",
        "        super(Generator, self).__init__()\n",
        "        self.proj = nn.Linear(latent_dim, 1024 * 4 * 4)\n",
        "        self.batch_norm = nn.BatchNorm2d(num_features=1024)\n",
        "        self.activasion = nn.ReLU()\n",
        "        self.upsampling = nn.Sequential(\n",
        "            nn.ConvTranspose2d(in_channels=1024, out_channels=512, kernel_size=5, stride=2, padding=2, output_padding=1),\n",
        "            nn.BatchNorm2d(num_features=512),\n",
        "            nn.ReLU(),\n",
        "            nn.ConvTranspose2d(in_channels=512, out_channels=256, kernel_size=5, stride=2, padding=2, output_padding=1),\n",
        "            nn.BatchNorm2d(num_features=256),\n",
        "            nn.ReLU(),\n",
        "            nn.ConvTranspose2d(in_channels=256, out_channels=128, kernel_size=5, stride=2, padding=2, output_padding=1),\n",
        "            nn.BatchNorm2d(num_features=128),\n",
        "            nn.ReLU(),\n",
        "            nn.ConvTranspose2d(in_channels=128, out_channels=3, kernel_size=5, stride=2, padding=2, output_padding=1),\n",
        "            nn.Tanh()\n",
        "        )\n",
        "\n",
        "    def forward(self, x):\n",
        "        batch_size = x.size()[0]\n",
        "        x = self.proj(x)\n",
        "        x = x.view(batch_size, 1024, 4, 4)\n",
        "        x = self.batch_norm(x)\n",
        "        x = self.activasion(x)\n",
        "        x = self.upsampling(x)\n",
        "        return x"
      ]
    },
    {
      "cell_type": "code",
      "execution_count": null,
      "metadata": {
        "id": "gN1FlcAZ8oYI"
      },
      "outputs": [],
      "source": [
        "import torch\n",
        "from torch import nn\n",
        "\n",
        "def weights_init(m):\n",
        "    classname = m.__class__.__name__\n",
        "    if classname.find('Conv') != -1:\n",
        "        nn.init.normal_(m.weight.data, 0.0, 0.02)\n",
        "    elif classname.find('BatchNorm') != -1:\n",
        "        nn.init.normal_(m.weight.data, 1.0, 0.02)\n",
        "        nn.init.constant_(m.bias.data, 0)"
      ]
    },
    {
      "cell_type": "code",
      "execution_count": null,
      "metadata": {
        "colab": {
          "base_uri": "https://localhost:8080/"
        },
        "id": "uHseFgwg96TC",
        "outputId": "e1ccbec4-eff3-4473-b05b-f89cbfd5deec"
      },
      "outputs": [
        {
          "name": "stdout",
          "output_type": "stream",
          "text": [
            "Collecting piq\n",
            "  Downloading piq-0.8.0-py3-none-any.whl (106 kB)\n",
            "\u001b[2K     \u001b[90m━━━━━━━━━━━━━━━━━━━━━━━━━━━━━━━━━━━━━━━━\u001b[0m \u001b[32m106.9/106.9 kB\u001b[0m \u001b[31m3.1 MB/s\u001b[0m eta \u001b[36m0:00:00\u001b[0m\n",
            "\u001b[?25hRequirement already satisfied: torchvision>=0.10.0 in /usr/local/lib/python3.10/dist-packages (from piq) (0.17.1+cu121)\n",
            "Requirement already satisfied: numpy in /usr/local/lib/python3.10/dist-packages (from torchvision>=0.10.0->piq) (1.25.2)\n",
            "Requirement already satisfied: torch==2.2.1 in /usr/local/lib/python3.10/dist-packages (from torchvision>=0.10.0->piq) (2.2.1+cu121)\n",
            "Requirement already satisfied: pillow!=8.3.*,>=5.3.0 in /usr/local/lib/python3.10/dist-packages (from torchvision>=0.10.0->piq) (9.4.0)\n",
            "Requirement already satisfied: filelock in /usr/local/lib/python3.10/dist-packages (from torch==2.2.1->torchvision>=0.10.0->piq) (3.13.4)\n",
            "Requirement already satisfied: typing-extensions>=4.8.0 in /usr/local/lib/python3.10/dist-packages (from torch==2.2.1->torchvision>=0.10.0->piq) (4.11.0)\n",
            "Requirement already satisfied: sympy in /usr/local/lib/python3.10/dist-packages (from torch==2.2.1->torchvision>=0.10.0->piq) (1.12)\n",
            "Requirement already satisfied: networkx in /usr/local/lib/python3.10/dist-packages (from torch==2.2.1->torchvision>=0.10.0->piq) (3.3)\n",
            "Requirement already satisfied: jinja2 in /usr/local/lib/python3.10/dist-packages (from torch==2.2.1->torchvision>=0.10.0->piq) (3.1.3)\n",
            "Requirement already satisfied: fsspec in /usr/local/lib/python3.10/dist-packages (from torch==2.2.1->torchvision>=0.10.0->piq) (2023.6.0)\n",
            "Collecting nvidia-cuda-nvrtc-cu12==12.1.105 (from torch==2.2.1->torchvision>=0.10.0->piq)\n",
            "  Using cached nvidia_cuda_nvrtc_cu12-12.1.105-py3-none-manylinux1_x86_64.whl (23.7 MB)\n",
            "Collecting nvidia-cuda-runtime-cu12==12.1.105 (from torch==2.2.1->torchvision>=0.10.0->piq)\n",
            "  Using cached nvidia_cuda_runtime_cu12-12.1.105-py3-none-manylinux1_x86_64.whl (823 kB)\n",
            "Collecting nvidia-cuda-cupti-cu12==12.1.105 (from torch==2.2.1->torchvision>=0.10.0->piq)\n",
            "  Using cached nvidia_cuda_cupti_cu12-12.1.105-py3-none-manylinux1_x86_64.whl (14.1 MB)\n",
            "Collecting nvidia-cudnn-cu12==8.9.2.26 (from torch==2.2.1->torchvision>=0.10.0->piq)\n",
            "  Using cached nvidia_cudnn_cu12-8.9.2.26-py3-none-manylinux1_x86_64.whl (731.7 MB)\n",
            "Collecting nvidia-cublas-cu12==12.1.3.1 (from torch==2.2.1->torchvision>=0.10.0->piq)\n",
            "  Using cached nvidia_cublas_cu12-12.1.3.1-py3-none-manylinux1_x86_64.whl (410.6 MB)\n",
            "Collecting nvidia-cufft-cu12==11.0.2.54 (from torch==2.2.1->torchvision>=0.10.0->piq)\n",
            "  Using cached nvidia_cufft_cu12-11.0.2.54-py3-none-manylinux1_x86_64.whl (121.6 MB)\n",
            "Collecting nvidia-curand-cu12==10.3.2.106 (from torch==2.2.1->torchvision>=0.10.0->piq)\n",
            "  Using cached nvidia_curand_cu12-10.3.2.106-py3-none-manylinux1_x86_64.whl (56.5 MB)\n",
            "Collecting nvidia-cusolver-cu12==11.4.5.107 (from torch==2.2.1->torchvision>=0.10.0->piq)\n",
            "  Using cached nvidia_cusolver_cu12-11.4.5.107-py3-none-manylinux1_x86_64.whl (124.2 MB)\n",
            "Collecting nvidia-cusparse-cu12==12.1.0.106 (from torch==2.2.1->torchvision>=0.10.0->piq)\n",
            "  Using cached nvidia_cusparse_cu12-12.1.0.106-py3-none-manylinux1_x86_64.whl (196.0 MB)\n",
            "Collecting nvidia-nccl-cu12==2.19.3 (from torch==2.2.1->torchvision>=0.10.0->piq)\n",
            "  Using cached nvidia_nccl_cu12-2.19.3-py3-none-manylinux1_x86_64.whl (166.0 MB)\n",
            "Collecting nvidia-nvtx-cu12==12.1.105 (from torch==2.2.1->torchvision>=0.10.0->piq)\n",
            "  Using cached nvidia_nvtx_cu12-12.1.105-py3-none-manylinux1_x86_64.whl (99 kB)\n",
            "Requirement already satisfied: triton==2.2.0 in /usr/local/lib/python3.10/dist-packages (from torch==2.2.1->torchvision>=0.10.0->piq) (2.2.0)\n",
            "Collecting nvidia-nvjitlink-cu12 (from nvidia-cusolver-cu12==11.4.5.107->torch==2.2.1->torchvision>=0.10.0->piq)\n",
            "  Using cached nvidia_nvjitlink_cu12-12.4.127-py3-none-manylinux2014_x86_64.whl (21.1 MB)\n",
            "Requirement already satisfied: MarkupSafe>=2.0 in /usr/local/lib/python3.10/dist-packages (from jinja2->torch==2.2.1->torchvision>=0.10.0->piq) (2.1.5)\n",
            "Requirement already satisfied: mpmath>=0.19 in /usr/local/lib/python3.10/dist-packages (from sympy->torch==2.2.1->torchvision>=0.10.0->piq) (1.3.0)\n",
            "Installing collected packages: nvidia-nvtx-cu12, nvidia-nvjitlink-cu12, nvidia-nccl-cu12, nvidia-curand-cu12, nvidia-cufft-cu12, nvidia-cuda-runtime-cu12, nvidia-cuda-nvrtc-cu12, nvidia-cuda-cupti-cu12, nvidia-cublas-cu12, nvidia-cusparse-cu12, nvidia-cudnn-cu12, nvidia-cusolver-cu12, piq\n",
            "Successfully installed nvidia-cublas-cu12-12.1.3.1 nvidia-cuda-cupti-cu12-12.1.105 nvidia-cuda-nvrtc-cu12-12.1.105 nvidia-cuda-runtime-cu12-12.1.105 nvidia-cudnn-cu12-8.9.2.26 nvidia-cufft-cu12-11.0.2.54 nvidia-curand-cu12-10.3.2.106 nvidia-cusolver-cu12-11.4.5.107 nvidia-cusparse-cu12-12.1.0.106 nvidia-nccl-cu12-2.19.3 nvidia-nvjitlink-cu12-12.4.127 nvidia-nvtx-cu12-12.1.105 piq-0.8.0\n"
          ]
        }
      ],
      "source": [
        "!pip install piq"
      ]
    },
    {
      "cell_type": "code",
      "execution_count": null,
      "metadata": {
        "colab": {
          "base_uri": "https://localhost:8080/"
        },
        "id": "rqYU3Ru--Kvb",
        "outputId": "a39387ab-6241-4934-8995-ac95c2ea3d56"
      },
      "outputs": [
        {
          "name": "stdout",
          "output_type": "stream",
          "text": [
            "Collecting wandb\n",
            "  Downloading wandb-0.16.6-py3-none-any.whl (2.2 MB)\n",
            "\u001b[2K     \u001b[90m━━━━━━━━━━━━━━━━━━━━━━━━━━━━━━━━━━━━━━━━\u001b[0m \u001b[32m2.2/2.2 MB\u001b[0m \u001b[31m15.1 MB/s\u001b[0m eta \u001b[36m0:00:00\u001b[0m\n",
            "\u001b[?25hRequirement already satisfied: Click!=8.0.0,>=7.1 in /usr/local/lib/python3.10/dist-packages (from wandb) (8.1.7)\n",
            "Collecting GitPython!=3.1.29,>=1.0.0 (from wandb)\n",
            "  Downloading GitPython-3.1.43-py3-none-any.whl (207 kB)\n",
            "\u001b[2K     \u001b[90m━━━━━━━━━━━━━━━━━━━━━━━━━━━━━━━━━━━━━━━━\u001b[0m \u001b[32m207.3/207.3 kB\u001b[0m \u001b[31m14.9 MB/s\u001b[0m eta \u001b[36m0:00:00\u001b[0m\n",
            "\u001b[?25hRequirement already satisfied: requests<3,>=2.0.0 in /usr/local/lib/python3.10/dist-packages (from wandb) (2.31.0)\n",
            "Requirement already satisfied: psutil>=5.0.0 in /usr/local/lib/python3.10/dist-packages (from wandb) (5.9.5)\n",
            "Collecting sentry-sdk>=1.0.0 (from wandb)\n",
            "  Downloading sentry_sdk-2.0.1-py2.py3-none-any.whl (266 kB)\n",
            "\u001b[2K     \u001b[90m━━━━━━━━━━━━━━━━━━━━━━━━━━━━━━━━━━━━━━━━\u001b[0m \u001b[32m266.8/266.8 kB\u001b[0m \u001b[31m20.9 MB/s\u001b[0m eta \u001b[36m0:00:00\u001b[0m\n",
            "\u001b[?25hCollecting docker-pycreds>=0.4.0 (from wandb)\n",
            "  Downloading docker_pycreds-0.4.0-py2.py3-none-any.whl (9.0 kB)\n",
            "Requirement already satisfied: PyYAML in /usr/local/lib/python3.10/dist-packages (from wandb) (6.0.1)\n",
            "Collecting setproctitle (from wandb)\n",
            "  Downloading setproctitle-1.3.3-cp310-cp310-manylinux_2_5_x86_64.manylinux1_x86_64.manylinux_2_17_x86_64.manylinux2014_x86_64.whl (30 kB)\n",
            "Requirement already satisfied: setuptools in /usr/local/lib/python3.10/dist-packages (from wandb) (67.7.2)\n",
            "Requirement already satisfied: appdirs>=1.4.3 in /usr/local/lib/python3.10/dist-packages (from wandb) (1.4.4)\n",
            "Requirement already satisfied: protobuf!=4.21.0,<5,>=3.19.0 in /usr/local/lib/python3.10/dist-packages (from wandb) (3.20.3)\n",
            "Requirement already satisfied: six>=1.4.0 in /usr/local/lib/python3.10/dist-packages (from docker-pycreds>=0.4.0->wandb) (1.16.0)\n",
            "Collecting gitdb<5,>=4.0.1 (from GitPython!=3.1.29,>=1.0.0->wandb)\n",
            "  Downloading gitdb-4.0.11-py3-none-any.whl (62 kB)\n",
            "\u001b[2K     \u001b[90m━━━━━━━━━━━━━━━━━━━━━━━━━━━━━━━━━━━━━━━━\u001b[0m \u001b[32m62.7/62.7 kB\u001b[0m \u001b[31m10.0 MB/s\u001b[0m eta \u001b[36m0:00:00\u001b[0m\n",
            "\u001b[?25hRequirement already satisfied: charset-normalizer<4,>=2 in /usr/local/lib/python3.10/dist-packages (from requests<3,>=2.0.0->wandb) (3.3.2)\n",
            "Requirement already satisfied: idna<4,>=2.5 in /usr/local/lib/python3.10/dist-packages (from requests<3,>=2.0.0->wandb) (3.7)\n",
            "Requirement already satisfied: urllib3<3,>=1.21.1 in /usr/local/lib/python3.10/dist-packages (from requests<3,>=2.0.0->wandb) (2.0.7)\n",
            "Requirement already satisfied: certifi>=2017.4.17 in /usr/local/lib/python3.10/dist-packages (from requests<3,>=2.0.0->wandb) (2024.2.2)\n",
            "Collecting smmap<6,>=3.0.1 (from gitdb<5,>=4.0.1->GitPython!=3.1.29,>=1.0.0->wandb)\n",
            "  Downloading smmap-5.0.1-py3-none-any.whl (24 kB)\n",
            "Installing collected packages: smmap, setproctitle, sentry-sdk, docker-pycreds, gitdb, GitPython, wandb\n",
            "Successfully installed GitPython-3.1.43 docker-pycreds-0.4.0 gitdb-4.0.11 sentry-sdk-2.0.1 setproctitle-1.3.3 smmap-5.0.1 wandb-0.16.6\n"
          ]
        }
      ],
      "source": [
        "!pip install wandb"
      ]
    },
    {
      "cell_type": "code",
      "execution_count": null,
      "metadata": {
        "colab": {
          "base_uri": "https://localhost:8080/"
        },
        "id": "67Ava2Kf-aLh",
        "outputId": "51de771e-ccbc-4a4f-f494-1cdf328d972a"
      },
      "outputs": [
        {
          "name": "stdout",
          "output_type": "stream",
          "text": [
            "\u001b[34m\u001b[1mwandb\u001b[0m: Logging into wandb.ai. (Learn how to deploy a W&B server locally: https://wandb.me/wandb-server)\n",
            "\u001b[34m\u001b[1mwandb\u001b[0m: You can find your API key in your browser here: https://wandb.ai/authorize\n",
            "\u001b[34m\u001b[1mwandb\u001b[0m: Paste an API key from your profile and hit enter, or press ctrl+c to quit: \n",
            "\u001b[34m\u001b[1mwandb\u001b[0m: Appending key for api.wandb.ai to your netrc file: /root/.netrc\n"
          ]
        }
      ],
      "source": [
        "! wandb login"
      ]
    },
    {
      "cell_type": "code",
      "execution_count": null,
      "metadata": {
        "id": "2BWI24Lk8pFE"
      },
      "outputs": [],
      "source": [
        "import torch\n",
        "from torch import nn\n",
        "import torch.nn.functional as F\n",
        "import torchvision.utils as vutils\n",
        "from torch.utils.data import DataLoader, TensorDataset\n",
        "\n",
        "from piq import ssim, SSIMLoss, FID\n",
        "\n",
        "import wandb\n",
        "\n",
        "from tqdm import tqdm\n",
        "\n",
        "def collate_fn(data):\n",
        "    images, labels = zip(*data)\n",
        "    images = torch.stack(images, dim=0).float()\n",
        "    labels = torch.tensor(labels).int()\n",
        "    return {'images': images, 'labels': labels}\n",
        "\n",
        "class Trainer:\n",
        "    def __init__(\n",
        "            self,\n",
        "            run_name: str,\n",
        "            model_generator, model_discriminator,\n",
        "            optimizer_generator, optimizer_discriminator,\n",
        "            criterion,\n",
        "            train_loader, test_loader,\n",
        "            lr_scheduler_generator = None, lr_scheduler_discriminator = None,\n",
        "            device = None, start_epoch: int = 1, len_epoch: int = None) -> None:\n",
        "\n",
        "        self.model_g = model_generator\n",
        "        self.model_d = model_discriminator\n",
        "        self.optimizer_g = optimizer_generator\n",
        "        self.optimizer_d = optimizer_discriminator\n",
        "        self.lr_scheduler_g = lr_scheduler_generator\n",
        "        self.lr_scheduler_d = lr_scheduler_discriminator\n",
        "        self.criterion = criterion\n",
        "\n",
        "        self.start_epoch = start_epoch\n",
        "        self.train_loader = train_loader\n",
        "        self.test_loader = test_loader\n",
        "\n",
        "        if len_epoch is None:\n",
        "            len_epoch = len(train_loader)\n",
        "\n",
        "        self.len_epoch = len_epoch\n",
        "        self.device = device\n",
        "        self.epoch = start_epoch\n",
        "\n",
        "        if wandb.run is not None:\n",
        "            wandb.finish()\n",
        "\n",
        "        wandb.init(\n",
        "            project='dcgan',\n",
        "            name=run_name\n",
        "        )\n",
        "\n",
        "        self.step = 0\n",
        "\n",
        "    @torch.no_grad()\n",
        "    def get_grad_norm(self, model, norm_type=2):\n",
        "        parameters = model.parameters()\n",
        "        if isinstance(parameters, torch.Tensor):\n",
        "            parameters = [parameters]\n",
        "        parameters = [p for p in parameters if p.grad is not None]\n",
        "        total_norm = torch.norm(\n",
        "            torch.stack(\n",
        "                [torch.norm(p.grad.detach(), norm_type).cpu() for p in parameters]\n",
        "            ),\n",
        "            norm_type,\n",
        "        )\n",
        "        return total_norm.item()\n",
        "\n",
        "    def _train_epoch(self):\n",
        "        self.model_g.train()\n",
        "        self.model_d.train()\n",
        "\n",
        "        for batch in tqdm(self.train_loader, total=self.len_epoch, desc=f'Epoch: {self.epoch}'):\n",
        "            real_image = batch['images'].to(self.device)\n",
        "            batch_size = real_image.size()[0]\n",
        "            real_label = torch.ones((batch_size, 1), dtype=torch.float).to(self.device)\n",
        "            fake_label = torch.zeros((batch_size, 1), dtype=torch.float).to(self.device)\n",
        "\n",
        "            # Update discriminator first\n",
        "            self.optimizer_d.zero_grad()\n",
        "            logit_real = self.model_d(real_image)\n",
        "            d_loss_real = self.criterion(logit_real, real_label)\n",
        "            d_loss_real.backward()\n",
        "\n",
        "            fake_image = torch.randn(size=(batch_size, 100)).to(self.device)\n",
        "            fake_image = self.model_g(fake_image)\n",
        "            logit_fake = self.model_d(fake_image.detach())\n",
        "            d_loss_fake = self.criterion(logit_fake, fake_label)\n",
        "            d_loss_fake.backward()\n",
        "            d_loss = d_loss_real.item() + d_loss_fake.item()\n",
        "            self.optimizer_d.step()\n",
        "\n",
        "            # Update generator now\n",
        "            self.optimizer_g.zero_grad()\n",
        "            logit_fake = self.model_d(fake_image)\n",
        "            g_loss = self.criterion(logit_fake, real_label)\n",
        "            g_loss.backward()\n",
        "            self.optimizer_g.step()\n",
        "\n",
        "            g_loss = g_loss.item()\n",
        "\n",
        "            wandb.log({\n",
        "                'g_loss': g_loss, 'd_loss': d_loss,\n",
        "                'g_norm': self.get_grad_norm(self.model_g), 'd_norm': self.get_grad_norm(self.model_d)\n",
        "            }, step=self.step)\n",
        "            self.step += 1\n",
        "\n",
        "\n",
        "\n",
        "\n",
        "    @torch.no_grad()\n",
        "    def _generate_examples(self):\n",
        "        self.model_g.eval()\n",
        "        fake_image = torch.randn(size=(128, 100)).to(self.device)\n",
        "        fake_image = self.model_g(fake_image)\n",
        "\n",
        "        grid = vutils.make_grid(fake_image, nrow=8, padding=2, normalize=True)\n",
        "        wandb.log({'generated_images': wandb.Image(grid)}, step=self.step)\n",
        "\n",
        "    @torch.no_grad()\n",
        "    def _eval_epoch(self):\n",
        "        self.model_g.eval()\n",
        "        generated_dataset = []\n",
        "        real_dataset = []\n",
        "        ssim_index = 0\n",
        "        for batch in self.test_loader:\n",
        "            real_image = batch['images'].to(self.device)\n",
        "            batch_size = real_image.size()[0]\n",
        "            fake_image = torch.randn(size=(batch_size, 100)).to(self.device)\n",
        "            fake_image = self.model_g(fake_image)\n",
        "\n",
        "            fake_image = fake_image * 0.5 + 0.5\n",
        "            real_image = real_image * 0.5 + 0.5\n",
        "            generated_dataset.append(fake_image)\n",
        "            real_dataset.append(real_image)\n",
        "            ssim_index += ssim(fake_image, real_image, data_range=1.).item() * batch_size\n",
        "        ssim_index /= len(self.test_loader.dataset)\n",
        "\n",
        "        generated_dataset = torch.cat(generated_dataset, dim=0)\n",
        "        real_dataset = torch.cat(real_dataset, dim=0)\n",
        "        generated_dataset = DataLoader(\n",
        "            TensorDataset(generated_dataset, torch.zeros(generated_dataset.size()[0], )),\n",
        "            batch_size=batch_size, collate_fn=collate_fn\n",
        "        )\n",
        "        real_dataset = DataLoader(\n",
        "            TensorDataset(real_dataset, torch.zeros(real_dataset.size()[0], )),\n",
        "            batch_size=batch_size, collate_fn=collate_fn\n",
        "        )\n",
        "\n",
        "        fid_metric = FID()\n",
        "        first_feats = fid_metric.compute_feats(real_dataset)\n",
        "        second_feats = fid_metric.compute_feats(generated_dataset)\n",
        "        fid = fid_metric(first_feats, second_feats).item()\n",
        "\n",
        "        wandb.log({'FID': fid, 'SSIM': ssim_index}, step=self.step)\n",
        "\n",
        "    # @torch.no_grad()\n",
        "    # def display_interpolated_images(self, steps=8):\n",
        "    #     # Randomly select two images from the dataset\n",
        "    #     indices = torch.randperm(len(self.train_loader.dataset))[:2]\n",
        "    #     images = [self.train_loader.dataset[i][0].to(self.device) for i in indices]  # Ensure images are on the same device as the model\n",
        "\n",
        "    #     # Generate latent vectors for the two selected images\n",
        "    #     z1 = torch.randn(1, 100).to(self.device)\n",
        "    #     z2 = torch.randn(1, 100).to(self.device)\n",
        "\n",
        "    #     # Generate images from the latent vectors\n",
        "    #     image1 = self.model_g(z1)\n",
        "    #     image2 = self.model_g(z2)\n",
        "\n",
        "    #     # Interpolated images will also be on the same device\n",
        "    #     interpolated_images = [image1, image2]\n",
        "\n",
        "    #     # Perform interpolation\n",
        "    #     for alpha in np.linspace(0, 1, steps + 2)[1:-1]:  # Exclude the first and last values to avoid duplication\n",
        "    #         z = z1 * alpha + z2 * (1 - alpha)\n",
        "    #         interpolated_image = self.model_g(z)\n",
        "    #         interpolated_images.append(interpolated_image)\n",
        "\n",
        "    #     # Combine the chosen and interpolated images into one tensor\n",
        "    #     all_images = images + interpolated_images\n",
        "\n",
        "    #     # Before concatenation, make sure all images are on the same device\n",
        "    #     all_images = [img.to(self.device) for img in all_images]\n",
        "    #     image_grid = torch.cat(all_images, 0)\n",
        "\n",
        "    #     # Make the grid for display\n",
        "    #     grid = vutils.make_grid(image_grid, nrow=10, padding=2, normalize=True)\n",
        "\n",
        "    #     # Log the grid to wandb\n",
        "    #     wandb.log({'interpolated_images_with_chosen': wandb.Image(grid)}, step=self.step)\n",
        "\n",
        "    #     # If you're going to save the images, move the grid to the CPU first\n",
        "    #     return grid.cpu()  # Move to CPU for saving\n",
        "\n",
        "    # Save the state dictionaries of the models and the optimizers\n",
        "\n",
        "    @torch.no_grad()\n",
        "    def interpolate_and_generate(self, steps=8):\n",
        "        # Choose two random indices for interpolation\n",
        "        idx1, idx2 = np.random.choice(len(self.test_loader.dataset), 2, replace=False)\n",
        "\n",
        "        # Get the images for the selected indices\n",
        "        img1, img2 = self.test_loader.dataset[idx1][0].unsqueeze(0).to(self.device), \\\n",
        "                    self.test_loader.dataset[idx2][0].unsqueeze(0).to(self.device)\n",
        "\n",
        "        # Generate random latent vectors from the normal distribution\n",
        "        z1, z2 = torch.randn((1, 100)).to(self.device), torch.randn((1, 100)).to(self.device)\n",
        "\n",
        "        interpolated_images = [img1]\n",
        "\n",
        "        # Interpolate between the two latent vectors\n",
        "        for alpha in np.linspace(0, 1, steps+2)[1:-1]:  # Exclude the endpoints to only get intermediate steps\n",
        "            interpolated_z = z1 * (1 - alpha) + z2 * alpha\n",
        "            interpolated_img = self.model_g(interpolated_z)\n",
        "            interpolated_images.append(interpolated_img)\n",
        "\n",
        "        interpolated_images.append(img2)\n",
        "\n",
        "        # Convert list of tensors to tensor\n",
        "        interpolated_images = torch.cat(interpolated_images, 0)\n",
        "\n",
        "        # Make a grid and save the image\n",
        "        grid = vutils.make_grid(interpolated_images, nrow=steps+2, padding=2, normalize=True)\n",
        "        interpolated_image_path = drive_path+f\"interpolated_images_epoch_{self.epoch}.png\"\n",
        "        vutils.save_image(grid, interpolated_image_path)\n",
        "\n",
        "        return grid, interpolated_image_path\n",
        "\n",
        "    # Save the state dictionaries of the models and the optimizers\n",
        "    @torch.no_grad()\n",
        "    def _save_checkpoint(self, filename=\"trained_model_checkpoint_without.pth.tar\"):\n",
        "        state = {\n",
        "            'epoch': self.epoch,\n",
        "            'state_dict_generator': self.model_g.state_dict(),\n",
        "            'state_dict_discriminator': self.model_d.state_dict(),\n",
        "            'optimizer_g': self.optimizer_g.state_dict(),\n",
        "            'optimizer_d': self.optimizer_d.state_dict(),\n",
        "        }\n",
        "        if self.lr_scheduler_g is not None:\n",
        "            state['scheduler_g'] = self.lr_scheduler_g.state_dict()\n",
        "        if self.lr_scheduler_d is not None:\n",
        "            state['scheduler_d'] = self.lr_scheduler_d.state_dict()\n",
        "\n",
        "        torch.save(state, filename)\n",
        "\n",
        "    def train(self, n_epoch: int):\n",
        "        for epoch in range(self.start_epoch, n_epoch + 1):\n",
        "            self.epoch = epoch\n",
        "            self._train_epoch()\n",
        "            self._generate_examples()\n",
        "            self._eval_epoch()\n",
        "            if epoch % 10 == 0:\n",
        "              self._save_checkpoint(drive_path+'trained_model_checkpoint_without.pth.tar')\n"
      ]
    },
    {
      "cell_type": "code",
      "execution_count": null,
      "metadata": {
        "colab": {
          "base_uri": "https://localhost:8080/"
        },
        "id": "Durpgm0i9tc2",
        "outputId": "c88a135f-50e3-4a81-d159-243109e9d41f"
      },
      "outputs": [
        {
          "name": "stdout",
          "output_type": "stream",
          "text": [
            "Mounted at /content/drive\n"
          ]
        }
      ],
      "source": [
        "from google.colab import drive\n",
        "drive.mount('/content/drive')\n",
        "\n",
        "drive_path = \"/content/drive/MyDrive/gan-main/\""
      ]
    },
    {
      "cell_type": "code",
      "execution_count": null,
      "metadata": {
        "colab": {
          "base_uri": "https://localhost:8080/",
          "height": 1000
        },
        "id": "FEd84Xrm86-Q",
        "outputId": "e0e3e187-cb8f-4522-cf1c-93b07a8cd584"
      },
      "outputs": [
        {
          "name": "stdout",
          "output_type": "stream",
          "text": [
            "Downloading https://sid.erda.dk/public/archives/daaeac0d7ce1152aea9b61d9f1e19370/GTSRB-Training_fixed.zip to /content/drive/MyDrive/gan-main/data/gtsrb/GTSRB-Training_fixed.zip\n"
          ]
        },
        {
          "name": "stderr",
          "output_type": "stream",
          "text": [
            "100%|██████████| 187490228/187490228 [00:11<00:00, 16000517.73it/s]\n"
          ]
        },
        {
          "name": "stdout",
          "output_type": "stream",
          "text": [
            "Extracting /content/drive/MyDrive/gan-main/data/gtsrb/GTSRB-Training_fixed.zip to /content/drive/MyDrive/gan-main/data/gtsrb\n",
            "Downloading https://sid.erda.dk/public/archives/daaeac0d7ce1152aea9b61d9f1e19370/GTSRB_Final_Test_Images.zip to /content/drive/MyDrive/gan-main/data/gtsrb/GTSRB_Final_Test_Images.zip\n"
          ]
        },
        {
          "name": "stderr",
          "output_type": "stream",
          "text": [
            "100%|██████████| 88978620/88978620 [00:06<00:00, 14680661.60it/s]\n"
          ]
        },
        {
          "name": "stdout",
          "output_type": "stream",
          "text": [
            "Extracting /content/drive/MyDrive/gan-main/data/gtsrb/GTSRB_Final_Test_Images.zip to /content/drive/MyDrive/gan-main/data/gtsrb\n",
            "Downloading https://sid.erda.dk/public/archives/daaeac0d7ce1152aea9b61d9f1e19370/GTSRB_Final_Test_GT.zip to /content/drive/MyDrive/gan-main/data/gtsrb/GTSRB_Final_Test_GT.zip\n"
          ]
        },
        {
          "name": "stderr",
          "output_type": "stream",
          "text": [
            "100%|██████████| 99620/99620 [00:00<00:00, 209435.59it/s]\n"
          ]
        },
        {
          "name": "stdout",
          "output_type": "stream",
          "text": [
            "Extracting /content/drive/MyDrive/gan-main/data/gtsrb/GTSRB_Final_Test_GT.zip to /content/drive/MyDrive/gan-main/data/gtsrb\n",
            "cuda\n"
          ]
        },
        {
          "name": "stderr",
          "output_type": "stream",
          "text": [
            "\u001b[34m\u001b[1mwandb\u001b[0m: Currently logged in as: \u001b[33mbromotdi\u001b[0m (\u001b[33mbromotd\u001b[0m). Use \u001b[1m`wandb login --relogin`\u001b[0m to force relogin\n"
          ]
        },
        {
          "data": {
            "text/html": [
              "Tracking run with wandb version 0.16.6"
            ],
            "text/plain": [
              "<IPython.core.display.HTML object>"
            ]
          },
          "metadata": {},
          "output_type": "display_data"
        },
        {
          "data": {
            "text/html": [
              "Run data is saved locally in <code>/content/wandb/run-20240429_111320-a8h19p9k</code>"
            ],
            "text/plain": [
              "<IPython.core.display.HTML object>"
            ]
          },
          "metadata": {},
          "output_type": "display_data"
        },
        {
          "data": {
            "text/html": [
              "Syncing run <strong><a href='https://wandb.ai/bromotd/dcgan/runs/a8h19p9k' target=\"_blank\">training</a></strong> to <a href='https://wandb.ai/bromotd/dcgan' target=\"_blank\">Weights & Biases</a> (<a href='https://wandb.me/run' target=\"_blank\">docs</a>)<br/>"
            ],
            "text/plain": [
              "<IPython.core.display.HTML object>"
            ]
          },
          "metadata": {},
          "output_type": "display_data"
        },
        {
          "data": {
            "text/html": [
              " View project at <a href='https://wandb.ai/bromotd/dcgan' target=\"_blank\">https://wandb.ai/bromotd/dcgan</a>"
            ],
            "text/plain": [
              "<IPython.core.display.HTML object>"
            ]
          },
          "metadata": {},
          "output_type": "display_data"
        },
        {
          "data": {
            "text/html": [
              " View run at <a href='https://wandb.ai/bromotd/dcgan/runs/a8h19p9k' target=\"_blank\">https://wandb.ai/bromotd/dcgan/runs/a8h19p9k</a>"
            ],
            "text/plain": [
              "<IPython.core.display.HTML object>"
            ]
          },
          "metadata": {},
          "output_type": "display_data"
        },
        {
          "name": "stderr",
          "output_type": "stream",
          "text": [
            "\rEpoch: 1:   0%|          | 0/416 [00:00<?, ?it/s]/usr/lib/python3.10/multiprocessing/popen_fork.py:66: RuntimeWarning: os.fork() was called. os.fork() is incompatible with multithreaded code, and JAX is multithreaded, so this will likely lead to a deadlock.\n",
            "  self.pid = os.fork()\n",
            "Epoch: 1: 100%|██████████| 416/416 [00:45<00:00,  9.16it/s]\n",
            "/usr/lib/python3.10/multiprocessing/popen_fork.py:66: RuntimeWarning: os.fork() was called. os.fork() is incompatible with multithreaded code, and JAX is multithreaded, so this will likely lead to a deadlock.\n",
            "  self.pid = os.fork()\n",
            "/usr/lib/python3.10/multiprocessing/popen_fork.py:66: RuntimeWarning: os.fork() was called. os.fork() is incompatible with multithreaded code, and JAX is multithreaded, so this will likely lead to a deadlock.\n",
            "  self.pid = os.fork()\n"
          ]
        },
        {
          "name": "stdout",
          "output_type": "stream",
          "text": [
            "WARNING: default feature extractor (InceptionNet V2) is used.\n"
          ]
        },
        {
          "name": "stderr",
          "output_type": "stream",
          "text": [
            "/usr/local/lib/python3.10/dist-packages/torchvision/models/_utils.py:208: UserWarning: The parameter 'pretrained' is deprecated since 0.13 and may be removed in the future, please use 'weights' instead.\n",
            "  warnings.warn(\n",
            "/usr/local/lib/python3.10/dist-packages/torchvision/models/_utils.py:223: UserWarning: Arguments other than a weight enum or `None` for 'weights' are deprecated since 0.13 and may be removed in the future. The current behavior is equivalent to passing `weights=None`.\n",
            "  warnings.warn(msg)\n",
            "/usr/local/lib/python3.10/dist-packages/torchvision/models/inception.py:43: FutureWarning: The default weight initialization of inception_v3 will be changed in future releases of torchvision. If you wish to keep the old behavior (which leads to long initialization times due to scipy/scipy#11299), please set init_weights=True.\n",
            "  warnings.warn(\n",
            "Downloading: \"https://github.com/mseitzer/pytorch-fid/releases/download/fid_weights/pt_inception-2015-12-05-6726825d.pth\" to /root/.cache/torch/hub/checkpoints/pt_inception-2015-12-05-6726825d.pth\n",
            "100%|██████████| 91.2M/91.2M [00:00<00:00, 287MB/s]\n"
          ]
        },
        {
          "name": "stdout",
          "output_type": "stream",
          "text": [
            "WARNING: default feature extractor (InceptionNet V2) is used.\n"
          ]
        },
        {
          "name": "stderr",
          "output_type": "stream",
          "text": [
            "Epoch: 2: 100%|██████████| 416/416 [00:43<00:00,  9.61it/s]\n"
          ]
        },
        {
          "name": "stdout",
          "output_type": "stream",
          "text": [
            "WARNING: default feature extractor (InceptionNet V2) is used.\n",
            "WARNING: default feature extractor (InceptionNet V2) is used.\n"
          ]
        },
        {
          "name": "stderr",
          "output_type": "stream",
          "text": [
            "Epoch: 3: 100%|██████████| 416/416 [00:44<00:00,  9.38it/s]\n"
          ]
        },
        {
          "name": "stdout",
          "output_type": "stream",
          "text": [
            "WARNING: default feature extractor (InceptionNet V2) is used.\n",
            "WARNING: default feature extractor (InceptionNet V2) is used.\n"
          ]
        },
        {
          "name": "stderr",
          "output_type": "stream",
          "text": [
            "Epoch: 4: 100%|██████████| 416/416 [00:44<00:00,  9.25it/s]\n"
          ]
        },
        {
          "name": "stdout",
          "output_type": "stream",
          "text": [
            "WARNING: default feature extractor (InceptionNet V2) is used.\n",
            "WARNING: default feature extractor (InceptionNet V2) is used.\n"
          ]
        },
        {
          "name": "stderr",
          "output_type": "stream",
          "text": [
            "Epoch: 5: 100%|██████████| 416/416 [00:44<00:00,  9.34it/s]\n"
          ]
        },
        {
          "name": "stdout",
          "output_type": "stream",
          "text": [
            "WARNING: default feature extractor (InceptionNet V2) is used.\n",
            "WARNING: default feature extractor (InceptionNet V2) is used.\n"
          ]
        },
        {
          "name": "stderr",
          "output_type": "stream",
          "text": [
            "Epoch: 6: 100%|██████████| 416/416 [00:44<00:00,  9.42it/s]\n"
          ]
        },
        {
          "name": "stdout",
          "output_type": "stream",
          "text": [
            "WARNING: default feature extractor (InceptionNet V2) is used.\n",
            "WARNING: default feature extractor (InceptionNet V2) is used.\n"
          ]
        },
        {
          "name": "stderr",
          "output_type": "stream",
          "text": [
            "Epoch: 7: 100%|██████████| 416/416 [00:44<00:00,  9.43it/s]\n"
          ]
        },
        {
          "name": "stdout",
          "output_type": "stream",
          "text": [
            "WARNING: default feature extractor (InceptionNet V2) is used.\n",
            "WARNING: default feature extractor (InceptionNet V2) is used.\n"
          ]
        },
        {
          "name": "stderr",
          "output_type": "stream",
          "text": [
            "Epoch: 8: 100%|██████████| 416/416 [00:44<00:00,  9.41it/s]\n"
          ]
        },
        {
          "name": "stdout",
          "output_type": "stream",
          "text": [
            "WARNING: default feature extractor (InceptionNet V2) is used.\n",
            "WARNING: default feature extractor (InceptionNet V2) is used.\n"
          ]
        },
        {
          "name": "stderr",
          "output_type": "stream",
          "text": [
            "Epoch: 9: 100%|██████████| 416/416 [00:44<00:00,  9.32it/s]\n"
          ]
        },
        {
          "name": "stdout",
          "output_type": "stream",
          "text": [
            "WARNING: default feature extractor (InceptionNet V2) is used.\n",
            "WARNING: default feature extractor (InceptionNet V2) is used.\n"
          ]
        },
        {
          "name": "stderr",
          "output_type": "stream",
          "text": [
            "Epoch: 10: 100%|██████████| 416/416 [00:44<00:00,  9.31it/s]\n"
          ]
        },
        {
          "name": "stdout",
          "output_type": "stream",
          "text": [
            "WARNING: default feature extractor (InceptionNet V2) is used.\n",
            "WARNING: default feature extractor (InceptionNet V2) is used.\n"
          ]
        },
        {
          "name": "stderr",
          "output_type": "stream",
          "text": [
            "Epoch: 11: 100%|██████████| 416/416 [00:45<00:00,  9.23it/s]\n"
          ]
        },
        {
          "name": "stdout",
          "output_type": "stream",
          "text": [
            "WARNING: default feature extractor (InceptionNet V2) is used.\n",
            "WARNING: default feature extractor (InceptionNet V2) is used.\n"
          ]
        },
        {
          "name": "stderr",
          "output_type": "stream",
          "text": [
            "Epoch: 12: 100%|██████████| 416/416 [00:44<00:00,  9.40it/s]\n"
          ]
        },
        {
          "name": "stdout",
          "output_type": "stream",
          "text": [
            "WARNING: default feature extractor (InceptionNet V2) is used.\n",
            "WARNING: default feature extractor (InceptionNet V2) is used.\n"
          ]
        },
        {
          "name": "stderr",
          "output_type": "stream",
          "text": [
            "Epoch: 13: 100%|██████████| 416/416 [00:44<00:00,  9.25it/s]\n"
          ]
        },
        {
          "name": "stdout",
          "output_type": "stream",
          "text": [
            "WARNING: default feature extractor (InceptionNet V2) is used.\n",
            "WARNING: default feature extractor (InceptionNet V2) is used.\n"
          ]
        },
        {
          "name": "stderr",
          "output_type": "stream",
          "text": [
            "Epoch: 14: 100%|██████████| 416/416 [00:44<00:00,  9.30it/s]\n"
          ]
        },
        {
          "name": "stdout",
          "output_type": "stream",
          "text": [
            "WARNING: default feature extractor (InceptionNet V2) is used.\n",
            "WARNING: default feature extractor (InceptionNet V2) is used.\n"
          ]
        },
        {
          "name": "stderr",
          "output_type": "stream",
          "text": [
            "Epoch: 15: 100%|██████████| 416/416 [00:44<00:00,  9.35it/s]\n"
          ]
        },
        {
          "name": "stdout",
          "output_type": "stream",
          "text": [
            "WARNING: default feature extractor (InceptionNet V2) is used.\n",
            "WARNING: default feature extractor (InceptionNet V2) is used.\n"
          ]
        },
        {
          "name": "stderr",
          "output_type": "stream",
          "text": [
            "Epoch: 16: 100%|██████████| 416/416 [00:44<00:00,  9.27it/s]\n"
          ]
        },
        {
          "name": "stdout",
          "output_type": "stream",
          "text": [
            "WARNING: default feature extractor (InceptionNet V2) is used.\n",
            "WARNING: default feature extractor (InceptionNet V2) is used.\n"
          ]
        },
        {
          "name": "stderr",
          "output_type": "stream",
          "text": [
            "Epoch: 17: 100%|██████████| 416/416 [00:44<00:00,  9.26it/s]\n"
          ]
        },
        {
          "name": "stdout",
          "output_type": "stream",
          "text": [
            "WARNING: default feature extractor (InceptionNet V2) is used.\n",
            "WARNING: default feature extractor (InceptionNet V2) is used.\n"
          ]
        },
        {
          "name": "stderr",
          "output_type": "stream",
          "text": [
            "Epoch: 18: 100%|██████████| 416/416 [00:45<00:00,  9.24it/s]\n"
          ]
        },
        {
          "name": "stdout",
          "output_type": "stream",
          "text": [
            "WARNING: default feature extractor (InceptionNet V2) is used.\n",
            "WARNING: default feature extractor (InceptionNet V2) is used.\n"
          ]
        },
        {
          "name": "stderr",
          "output_type": "stream",
          "text": [
            "Epoch: 19: 100%|██████████| 416/416 [00:44<00:00,  9.37it/s]\n"
          ]
        },
        {
          "name": "stdout",
          "output_type": "stream",
          "text": [
            "WARNING: default feature extractor (InceptionNet V2) is used.\n",
            "WARNING: default feature extractor (InceptionNet V2) is used.\n"
          ]
        },
        {
          "name": "stderr",
          "output_type": "stream",
          "text": [
            "Epoch: 20: 100%|██████████| 416/416 [00:44<00:00,  9.34it/s]\n"
          ]
        },
        {
          "name": "stdout",
          "output_type": "stream",
          "text": [
            "WARNING: default feature extractor (InceptionNet V2) is used.\n",
            "WARNING: default feature extractor (InceptionNet V2) is used.\n"
          ]
        },
        {
          "name": "stderr",
          "output_type": "stream",
          "text": [
            "Epoch: 21: 100%|██████████| 416/416 [00:46<00:00,  9.01it/s]\n"
          ]
        },
        {
          "name": "stdout",
          "output_type": "stream",
          "text": [
            "WARNING: default feature extractor (InceptionNet V2) is used.\n",
            "WARNING: default feature extractor (InceptionNet V2) is used.\n"
          ]
        },
        {
          "name": "stderr",
          "output_type": "stream",
          "text": [
            "Epoch: 22: 100%|██████████| 416/416 [00:44<00:00,  9.36it/s]\n"
          ]
        },
        {
          "name": "stdout",
          "output_type": "stream",
          "text": [
            "WARNING: default feature extractor (InceptionNet V2) is used.\n",
            "WARNING: default feature extractor (InceptionNet V2) is used.\n"
          ]
        },
        {
          "name": "stderr",
          "output_type": "stream",
          "text": [
            "Epoch: 23: 100%|██████████| 416/416 [00:44<00:00,  9.36it/s]\n"
          ]
        },
        {
          "name": "stdout",
          "output_type": "stream",
          "text": [
            "WARNING: default feature extractor (InceptionNet V2) is used.\n",
            "WARNING: default feature extractor (InceptionNet V2) is used.\n"
          ]
        },
        {
          "name": "stderr",
          "output_type": "stream",
          "text": [
            "Epoch: 24: 100%|██████████| 416/416 [00:44<00:00,  9.34it/s]\n"
          ]
        },
        {
          "name": "stdout",
          "output_type": "stream",
          "text": [
            "WARNING: default feature extractor (InceptionNet V2) is used.\n",
            "WARNING: default feature extractor (InceptionNet V2) is used.\n"
          ]
        },
        {
          "name": "stderr",
          "output_type": "stream",
          "text": [
            "Epoch: 25: 100%|██████████| 416/416 [00:44<00:00,  9.31it/s]\n"
          ]
        },
        {
          "name": "stdout",
          "output_type": "stream",
          "text": [
            "WARNING: default feature extractor (InceptionNet V2) is used.\n",
            "WARNING: default feature extractor (InceptionNet V2) is used.\n"
          ]
        },
        {
          "name": "stderr",
          "output_type": "stream",
          "text": [
            "Epoch: 26: 100%|██████████| 416/416 [00:44<00:00,  9.27it/s]\n"
          ]
        },
        {
          "name": "stdout",
          "output_type": "stream",
          "text": [
            "WARNING: default feature extractor (InceptionNet V2) is used.\n",
            "WARNING: default feature extractor (InceptionNet V2) is used.\n"
          ]
        },
        {
          "name": "stderr",
          "output_type": "stream",
          "text": [
            "Epoch: 27: 100%|██████████| 416/416 [00:44<00:00,  9.42it/s]\n"
          ]
        },
        {
          "name": "stdout",
          "output_type": "stream",
          "text": [
            "WARNING: default feature extractor (InceptionNet V2) is used.\n",
            "WARNING: default feature extractor (InceptionNet V2) is used.\n"
          ]
        },
        {
          "name": "stderr",
          "output_type": "stream",
          "text": [
            "Epoch: 28: 100%|██████████| 416/416 [00:44<00:00,  9.35it/s]\n"
          ]
        },
        {
          "name": "stdout",
          "output_type": "stream",
          "text": [
            "WARNING: default feature extractor (InceptionNet V2) is used.\n",
            "WARNING: default feature extractor (InceptionNet V2) is used.\n"
          ]
        },
        {
          "name": "stderr",
          "output_type": "stream",
          "text": [
            "Epoch: 29: 100%|██████████| 416/416 [00:45<00:00,  9.19it/s]\n"
          ]
        },
        {
          "name": "stdout",
          "output_type": "stream",
          "text": [
            "WARNING: default feature extractor (InceptionNet V2) is used.\n",
            "WARNING: default feature extractor (InceptionNet V2) is used.\n"
          ]
        },
        {
          "name": "stderr",
          "output_type": "stream",
          "text": [
            "Epoch: 30: 100%|██████████| 416/416 [00:45<00:00,  9.21it/s]\n"
          ]
        },
        {
          "name": "stdout",
          "output_type": "stream",
          "text": [
            "WARNING: default feature extractor (InceptionNet V2) is used.\n",
            "WARNING: default feature extractor (InceptionNet V2) is used.\n"
          ]
        },
        {
          "name": "stderr",
          "output_type": "stream",
          "text": [
            "Epoch: 31: 100%|██████████| 416/416 [00:45<00:00,  9.16it/s]\n"
          ]
        },
        {
          "name": "stdout",
          "output_type": "stream",
          "text": [
            "WARNING: default feature extractor (InceptionNet V2) is used.\n",
            "WARNING: default feature extractor (InceptionNet V2) is used.\n"
          ]
        },
        {
          "name": "stderr",
          "output_type": "stream",
          "text": [
            "Epoch: 32: 100%|██████████| 416/416 [00:45<00:00,  9.21it/s]\n"
          ]
        },
        {
          "name": "stdout",
          "output_type": "stream",
          "text": [
            "WARNING: default feature extractor (InceptionNet V2) is used.\n",
            "WARNING: default feature extractor (InceptionNet V2) is used.\n"
          ]
        },
        {
          "name": "stderr",
          "output_type": "stream",
          "text": [
            "Epoch: 33: 100%|██████████| 416/416 [00:44<00:00,  9.38it/s]\n"
          ]
        },
        {
          "name": "stdout",
          "output_type": "stream",
          "text": [
            "WARNING: default feature extractor (InceptionNet V2) is used.\n",
            "WARNING: default feature extractor (InceptionNet V2) is used.\n"
          ]
        },
        {
          "name": "stderr",
          "output_type": "stream",
          "text": [
            "Epoch: 34: 100%|██████████| 416/416 [00:43<00:00,  9.47it/s]\n"
          ]
        },
        {
          "name": "stdout",
          "output_type": "stream",
          "text": [
            "WARNING: default feature extractor (InceptionNet V2) is used.\n",
            "WARNING: default feature extractor (InceptionNet V2) is used.\n"
          ]
        },
        {
          "name": "stderr",
          "output_type": "stream",
          "text": [
            "Epoch: 35: 100%|██████████| 416/416 [00:44<00:00,  9.36it/s]\n"
          ]
        },
        {
          "name": "stdout",
          "output_type": "stream",
          "text": [
            "WARNING: default feature extractor (InceptionNet V2) is used.\n",
            "WARNING: default feature extractor (InceptionNet V2) is used.\n"
          ]
        },
        {
          "name": "stderr",
          "output_type": "stream",
          "text": [
            "Epoch: 36: 100%|██████████| 416/416 [00:44<00:00,  9.31it/s]\n"
          ]
        },
        {
          "name": "stdout",
          "output_type": "stream",
          "text": [
            "WARNING: default feature extractor (InceptionNet V2) is used.\n",
            "WARNING: default feature extractor (InceptionNet V2) is used.\n"
          ]
        },
        {
          "name": "stderr",
          "output_type": "stream",
          "text": [
            "Epoch: 37: 100%|██████████| 416/416 [00:44<00:00,  9.43it/s]\n"
          ]
        },
        {
          "name": "stdout",
          "output_type": "stream",
          "text": [
            "WARNING: default feature extractor (InceptionNet V2) is used.\n",
            "WARNING: default feature extractor (InceptionNet V2) is used.\n"
          ]
        },
        {
          "name": "stderr",
          "output_type": "stream",
          "text": [
            "Epoch: 38: 100%|██████████| 416/416 [00:44<00:00,  9.28it/s]\n"
          ]
        },
        {
          "name": "stdout",
          "output_type": "stream",
          "text": [
            "WARNING: default feature extractor (InceptionNet V2) is used.\n",
            "WARNING: default feature extractor (InceptionNet V2) is used.\n"
          ]
        },
        {
          "name": "stderr",
          "output_type": "stream",
          "text": [
            "Epoch: 39: 100%|██████████| 416/416 [00:44<00:00,  9.28it/s]\n"
          ]
        },
        {
          "name": "stdout",
          "output_type": "stream",
          "text": [
            "WARNING: default feature extractor (InceptionNet V2) is used.\n",
            "WARNING: default feature extractor (InceptionNet V2) is used.\n"
          ]
        },
        {
          "name": "stderr",
          "output_type": "stream",
          "text": [
            "Epoch: 40: 100%|██████████| 416/416 [00:44<00:00,  9.42it/s]\n"
          ]
        },
        {
          "name": "stdout",
          "output_type": "stream",
          "text": [
            "WARNING: default feature extractor (InceptionNet V2) is used.\n",
            "WARNING: default feature extractor (InceptionNet V2) is used.\n"
          ]
        },
        {
          "name": "stderr",
          "output_type": "stream",
          "text": [
            "Epoch: 41: 100%|██████████| 416/416 [00:44<00:00,  9.29it/s]\n"
          ]
        },
        {
          "name": "stdout",
          "output_type": "stream",
          "text": [
            "WARNING: default feature extractor (InceptionNet V2) is used.\n",
            "WARNING: default feature extractor (InceptionNet V2) is used.\n"
          ]
        },
        {
          "name": "stderr",
          "output_type": "stream",
          "text": [
            "Epoch: 42: 100%|██████████| 416/416 [00:44<00:00,  9.40it/s]\n"
          ]
        },
        {
          "name": "stdout",
          "output_type": "stream",
          "text": [
            "WARNING: default feature extractor (InceptionNet V2) is used.\n",
            "WARNING: default feature extractor (InceptionNet V2) is used.\n"
          ]
        },
        {
          "name": "stderr",
          "output_type": "stream",
          "text": [
            "Epoch: 43: 100%|██████████| 416/416 [00:43<00:00,  9.46it/s]\n"
          ]
        },
        {
          "name": "stdout",
          "output_type": "stream",
          "text": [
            "WARNING: default feature extractor (InceptionNet V2) is used.\n",
            "WARNING: default feature extractor (InceptionNet V2) is used.\n"
          ]
        },
        {
          "name": "stderr",
          "output_type": "stream",
          "text": [
            "Epoch: 44: 100%|██████████| 416/416 [00:43<00:00,  9.54it/s]\n"
          ]
        },
        {
          "name": "stdout",
          "output_type": "stream",
          "text": [
            "WARNING: default feature extractor (InceptionNet V2) is used.\n",
            "WARNING: default feature extractor (InceptionNet V2) is used.\n"
          ]
        },
        {
          "name": "stderr",
          "output_type": "stream",
          "text": [
            "Epoch: 45: 100%|██████████| 416/416 [00:44<00:00,  9.33it/s]\n"
          ]
        },
        {
          "name": "stdout",
          "output_type": "stream",
          "text": [
            "WARNING: default feature extractor (InceptionNet V2) is used.\n",
            "WARNING: default feature extractor (InceptionNet V2) is used.\n"
          ]
        },
        {
          "name": "stderr",
          "output_type": "stream",
          "text": [
            "Epoch: 46: 100%|██████████| 416/416 [00:43<00:00,  9.47it/s]\n"
          ]
        },
        {
          "name": "stdout",
          "output_type": "stream",
          "text": [
            "WARNING: default feature extractor (InceptionNet V2) is used.\n",
            "WARNING: default feature extractor (InceptionNet V2) is used.\n"
          ]
        },
        {
          "name": "stderr",
          "output_type": "stream",
          "text": [
            "Epoch: 47: 100%|██████████| 416/416 [00:44<00:00,  9.40it/s]\n"
          ]
        },
        {
          "name": "stdout",
          "output_type": "stream",
          "text": [
            "WARNING: default feature extractor (InceptionNet V2) is used.\n",
            "WARNING: default feature extractor (InceptionNet V2) is used.\n"
          ]
        },
        {
          "name": "stderr",
          "output_type": "stream",
          "text": [
            "Epoch: 48: 100%|██████████| 416/416 [00:43<00:00,  9.58it/s]\n"
          ]
        },
        {
          "name": "stdout",
          "output_type": "stream",
          "text": [
            "WARNING: default feature extractor (InceptionNet V2) is used.\n",
            "WARNING: default feature extractor (InceptionNet V2) is used.\n"
          ]
        },
        {
          "name": "stderr",
          "output_type": "stream",
          "text": [
            "Epoch: 49: 100%|██████████| 416/416 [00:43<00:00,  9.54it/s]\n"
          ]
        },
        {
          "name": "stdout",
          "output_type": "stream",
          "text": [
            "WARNING: default feature extractor (InceptionNet V2) is used.\n",
            "WARNING: default feature extractor (InceptionNet V2) is used.\n"
          ]
        },
        {
          "name": "stderr",
          "output_type": "stream",
          "text": [
            "Epoch: 50: 100%|██████████| 416/416 [00:44<00:00,  9.34it/s]\n"
          ]
        },
        {
          "name": "stdout",
          "output_type": "stream",
          "text": [
            "WARNING: default feature extractor (InceptionNet V2) is used.\n",
            "WARNING: default feature extractor (InceptionNet V2) is used.\n"
          ]
        },
        {
          "name": "stderr",
          "output_type": "stream",
          "text": [
            "Epoch: 51: 100%|██████████| 416/416 [00:45<00:00,  9.21it/s]\n"
          ]
        },
        {
          "name": "stdout",
          "output_type": "stream",
          "text": [
            "WARNING: default feature extractor (InceptionNet V2) is used.\n",
            "WARNING: default feature extractor (InceptionNet V2) is used.\n"
          ]
        },
        {
          "name": "stderr",
          "output_type": "stream",
          "text": [
            "Epoch: 52: 100%|██████████| 416/416 [00:43<00:00,  9.48it/s]\n"
          ]
        },
        {
          "name": "stdout",
          "output_type": "stream",
          "text": [
            "WARNING: default feature extractor (InceptionNet V2) is used.\n",
            "WARNING: default feature extractor (InceptionNet V2) is used.\n"
          ]
        },
        {
          "name": "stderr",
          "output_type": "stream",
          "text": [
            "Epoch: 53: 100%|██████████| 416/416 [00:44<00:00,  9.41it/s]\n"
          ]
        },
        {
          "name": "stdout",
          "output_type": "stream",
          "text": [
            "WARNING: default feature extractor (InceptionNet V2) is used.\n",
            "WARNING: default feature extractor (InceptionNet V2) is used.\n"
          ]
        },
        {
          "name": "stderr",
          "output_type": "stream",
          "text": [
            "Epoch: 54: 100%|██████████| 416/416 [00:43<00:00,  9.57it/s]\n"
          ]
        },
        {
          "name": "stdout",
          "output_type": "stream",
          "text": [
            "WARNING: default feature extractor (InceptionNet V2) is used.\n",
            "WARNING: default feature extractor (InceptionNet V2) is used.\n"
          ]
        },
        {
          "name": "stderr",
          "output_type": "stream",
          "text": [
            "Epoch: 55: 100%|██████████| 416/416 [00:43<00:00,  9.48it/s]\n"
          ]
        },
        {
          "name": "stdout",
          "output_type": "stream",
          "text": [
            "WARNING: default feature extractor (InceptionNet V2) is used.\n",
            "WARNING: default feature extractor (InceptionNet V2) is used.\n"
          ]
        },
        {
          "name": "stderr",
          "output_type": "stream",
          "text": [
            "Epoch: 56: 100%|██████████| 416/416 [00:44<00:00,  9.44it/s]\n"
          ]
        },
        {
          "name": "stdout",
          "output_type": "stream",
          "text": [
            "WARNING: default feature extractor (InceptionNet V2) is used.\n",
            "WARNING: default feature extractor (InceptionNet V2) is used.\n"
          ]
        },
        {
          "name": "stderr",
          "output_type": "stream",
          "text": [
            "Epoch: 57: 100%|██████████| 416/416 [00:43<00:00,  9.47it/s]\n"
          ]
        },
        {
          "name": "stdout",
          "output_type": "stream",
          "text": [
            "WARNING: default feature extractor (InceptionNet V2) is used.\n",
            "WARNING: default feature extractor (InceptionNet V2) is used.\n"
          ]
        },
        {
          "name": "stderr",
          "output_type": "stream",
          "text": [
            "Epoch: 58: 100%|██████████| 416/416 [00:44<00:00,  9.44it/s]\n"
          ]
        },
        {
          "name": "stdout",
          "output_type": "stream",
          "text": [
            "WARNING: default feature extractor (InceptionNet V2) is used.\n",
            "WARNING: default feature extractor (InceptionNet V2) is used.\n"
          ]
        },
        {
          "name": "stderr",
          "output_type": "stream",
          "text": [
            "Epoch: 59: 100%|██████████| 416/416 [00:44<00:00,  9.44it/s]\n"
          ]
        },
        {
          "name": "stdout",
          "output_type": "stream",
          "text": [
            "WARNING: default feature extractor (InceptionNet V2) is used.\n",
            "WARNING: default feature extractor (InceptionNet V2) is used.\n"
          ]
        },
        {
          "name": "stderr",
          "output_type": "stream",
          "text": [
            "Epoch: 60: 100%|██████████| 416/416 [00:43<00:00,  9.47it/s]\n"
          ]
        },
        {
          "name": "stdout",
          "output_type": "stream",
          "text": [
            "WARNING: default feature extractor (InceptionNet V2) is used.\n",
            "WARNING: default feature extractor (InceptionNet V2) is used.\n"
          ]
        },
        {
          "name": "stderr",
          "output_type": "stream",
          "text": [
            "Epoch: 61: 100%|██████████| 416/416 [00:45<00:00,  9.10it/s]\n"
          ]
        },
        {
          "name": "stdout",
          "output_type": "stream",
          "text": [
            "WARNING: default feature extractor (InceptionNet V2) is used.\n",
            "WARNING: default feature extractor (InceptionNet V2) is used.\n"
          ]
        },
        {
          "name": "stderr",
          "output_type": "stream",
          "text": [
            "Epoch: 62: 100%|██████████| 416/416 [00:43<00:00,  9.57it/s]\n"
          ]
        },
        {
          "name": "stdout",
          "output_type": "stream",
          "text": [
            "WARNING: default feature extractor (InceptionNet V2) is used.\n",
            "WARNING: default feature extractor (InceptionNet V2) is used.\n"
          ]
        },
        {
          "name": "stderr",
          "output_type": "stream",
          "text": [
            "Epoch: 63: 100%|██████████| 416/416 [00:43<00:00,  9.49it/s]\n"
          ]
        },
        {
          "name": "stdout",
          "output_type": "stream",
          "text": [
            "WARNING: default feature extractor (InceptionNet V2) is used.\n",
            "WARNING: default feature extractor (InceptionNet V2) is used.\n"
          ]
        },
        {
          "name": "stderr",
          "output_type": "stream",
          "text": [
            "Epoch: 64: 100%|██████████| 416/416 [00:44<00:00,  9.39it/s]\n"
          ]
        },
        {
          "name": "stdout",
          "output_type": "stream",
          "text": [
            "WARNING: default feature extractor (InceptionNet V2) is used.\n",
            "WARNING: default feature extractor (InceptionNet V2) is used.\n"
          ]
        },
        {
          "name": "stderr",
          "output_type": "stream",
          "text": [
            "Epoch: 65: 100%|██████████| 416/416 [00:44<00:00,  9.40it/s]\n"
          ]
        },
        {
          "name": "stdout",
          "output_type": "stream",
          "text": [
            "WARNING: default feature extractor (InceptionNet V2) is used.\n",
            "WARNING: default feature extractor (InceptionNet V2) is used.\n"
          ]
        },
        {
          "name": "stderr",
          "output_type": "stream",
          "text": [
            "Epoch: 66: 100%|██████████| 416/416 [00:43<00:00,  9.46it/s]\n"
          ]
        },
        {
          "name": "stdout",
          "output_type": "stream",
          "text": [
            "WARNING: default feature extractor (InceptionNet V2) is used.\n",
            "WARNING: default feature extractor (InceptionNet V2) is used.\n"
          ]
        },
        {
          "name": "stderr",
          "output_type": "stream",
          "text": [
            "Epoch: 67: 100%|██████████| 416/416 [00:44<00:00,  9.43it/s]\n"
          ]
        },
        {
          "name": "stdout",
          "output_type": "stream",
          "text": [
            "WARNING: default feature extractor (InceptionNet V2) is used.\n",
            "WARNING: default feature extractor (InceptionNet V2) is used.\n"
          ]
        },
        {
          "name": "stderr",
          "output_type": "stream",
          "text": [
            "Epoch: 68: 100%|██████████| 416/416 [00:43<00:00,  9.54it/s]\n"
          ]
        },
        {
          "name": "stdout",
          "output_type": "stream",
          "text": [
            "WARNING: default feature extractor (InceptionNet V2) is used.\n",
            "WARNING: default feature extractor (InceptionNet V2) is used.\n"
          ]
        },
        {
          "name": "stderr",
          "output_type": "stream",
          "text": [
            "Epoch: 69: 100%|██████████| 416/416 [00:43<00:00,  9.61it/s]\n"
          ]
        },
        {
          "name": "stdout",
          "output_type": "stream",
          "text": [
            "WARNING: default feature extractor (InceptionNet V2) is used.\n",
            "WARNING: default feature extractor (InceptionNet V2) is used.\n"
          ]
        },
        {
          "name": "stderr",
          "output_type": "stream",
          "text": [
            "Epoch: 70: 100%|██████████| 416/416 [00:43<00:00,  9.62it/s]\n"
          ]
        },
        {
          "name": "stdout",
          "output_type": "stream",
          "text": [
            "WARNING: default feature extractor (InceptionNet V2) is used.\n",
            "WARNING: default feature extractor (InceptionNet V2) is used.\n"
          ]
        },
        {
          "name": "stderr",
          "output_type": "stream",
          "text": [
            "Epoch: 71: 100%|██████████| 416/416 [00:45<00:00,  9.21it/s]\n"
          ]
        },
        {
          "name": "stdout",
          "output_type": "stream",
          "text": [
            "WARNING: default feature extractor (InceptionNet V2) is used.\n",
            "WARNING: default feature extractor (InceptionNet V2) is used.\n"
          ]
        },
        {
          "name": "stderr",
          "output_type": "stream",
          "text": [
            "Epoch: 72: 100%|██████████| 416/416 [00:43<00:00,  9.56it/s]\n"
          ]
        },
        {
          "name": "stdout",
          "output_type": "stream",
          "text": [
            "WARNING: default feature extractor (InceptionNet V2) is used.\n",
            "WARNING: default feature extractor (InceptionNet V2) is used.\n"
          ]
        },
        {
          "name": "stderr",
          "output_type": "stream",
          "text": [
            "Epoch: 73: 100%|██████████| 416/416 [00:43<00:00,  9.57it/s]\n"
          ]
        },
        {
          "name": "stdout",
          "output_type": "stream",
          "text": [
            "WARNING: default feature extractor (InceptionNet V2) is used.\n",
            "WARNING: default feature extractor (InceptionNet V2) is used.\n"
          ]
        },
        {
          "name": "stderr",
          "output_type": "stream",
          "text": [
            "Epoch: 74: 100%|██████████| 416/416 [00:43<00:00,  9.55it/s]\n"
          ]
        },
        {
          "name": "stdout",
          "output_type": "stream",
          "text": [
            "WARNING: default feature extractor (InceptionNet V2) is used.\n",
            "WARNING: default feature extractor (InceptionNet V2) is used.\n"
          ]
        },
        {
          "name": "stderr",
          "output_type": "stream",
          "text": [
            "Epoch: 75: 100%|██████████| 416/416 [00:43<00:00,  9.58it/s]\n"
          ]
        },
        {
          "name": "stdout",
          "output_type": "stream",
          "text": [
            "WARNING: default feature extractor (InceptionNet V2) is used.\n",
            "WARNING: default feature extractor (InceptionNet V2) is used.\n"
          ]
        },
        {
          "name": "stderr",
          "output_type": "stream",
          "text": [
            "Epoch: 76: 100%|██████████| 416/416 [00:43<00:00,  9.58it/s]\n"
          ]
        },
        {
          "name": "stdout",
          "output_type": "stream",
          "text": [
            "WARNING: default feature extractor (InceptionNet V2) is used.\n",
            "WARNING: default feature extractor (InceptionNet V2) is used.\n"
          ]
        },
        {
          "name": "stderr",
          "output_type": "stream",
          "text": [
            "Epoch: 77: 100%|██████████| 416/416 [00:44<00:00,  9.42it/s]\n"
          ]
        },
        {
          "name": "stdout",
          "output_type": "stream",
          "text": [
            "WARNING: default feature extractor (InceptionNet V2) is used.\n",
            "WARNING: default feature extractor (InceptionNet V2) is used.\n"
          ]
        },
        {
          "name": "stderr",
          "output_type": "stream",
          "text": [
            "Epoch: 78: 100%|██████████| 416/416 [00:43<00:00,  9.58it/s]\n"
          ]
        },
        {
          "name": "stdout",
          "output_type": "stream",
          "text": [
            "WARNING: default feature extractor (InceptionNet V2) is used.\n",
            "WARNING: default feature extractor (InceptionNet V2) is used.\n"
          ]
        },
        {
          "name": "stderr",
          "output_type": "stream",
          "text": [
            "Epoch: 79: 100%|██████████| 416/416 [00:43<00:00,  9.49it/s]\n"
          ]
        },
        {
          "name": "stdout",
          "output_type": "stream",
          "text": [
            "WARNING: default feature extractor (InceptionNet V2) is used.\n",
            "WARNING: default feature extractor (InceptionNet V2) is used.\n"
          ]
        },
        {
          "name": "stderr",
          "output_type": "stream",
          "text": [
            "Epoch: 80: 100%|██████████| 416/416 [00:43<00:00,  9.54it/s]\n"
          ]
        },
        {
          "name": "stdout",
          "output_type": "stream",
          "text": [
            "WARNING: default feature extractor (InceptionNet V2) is used.\n",
            "WARNING: default feature extractor (InceptionNet V2) is used.\n"
          ]
        },
        {
          "name": "stderr",
          "output_type": "stream",
          "text": [
            "Epoch: 81: 100%|██████████| 416/416 [00:44<00:00,  9.31it/s]\n"
          ]
        },
        {
          "name": "stdout",
          "output_type": "stream",
          "text": [
            "WARNING: default feature extractor (InceptionNet V2) is used.\n",
            "WARNING: default feature extractor (InceptionNet V2) is used.\n"
          ]
        },
        {
          "name": "stderr",
          "output_type": "stream",
          "text": [
            "Epoch: 82: 100%|██████████| 416/416 [00:43<00:00,  9.58it/s]\n"
          ]
        },
        {
          "name": "stdout",
          "output_type": "stream",
          "text": [
            "WARNING: default feature extractor (InceptionNet V2) is used.\n",
            "WARNING: default feature extractor (InceptionNet V2) is used.\n"
          ]
        },
        {
          "name": "stderr",
          "output_type": "stream",
          "text": [
            "Epoch: 83: 100%|██████████| 416/416 [00:43<00:00,  9.53it/s]\n"
          ]
        },
        {
          "name": "stdout",
          "output_type": "stream",
          "text": [
            "WARNING: default feature extractor (InceptionNet V2) is used.\n",
            "WARNING: default feature extractor (InceptionNet V2) is used.\n"
          ]
        },
        {
          "name": "stderr",
          "output_type": "stream",
          "text": [
            "Epoch: 84: 100%|██████████| 416/416 [00:43<00:00,  9.58it/s]\n"
          ]
        },
        {
          "name": "stdout",
          "output_type": "stream",
          "text": [
            "WARNING: default feature extractor (InceptionNet V2) is used.\n",
            "WARNING: default feature extractor (InceptionNet V2) is used.\n"
          ]
        },
        {
          "name": "stderr",
          "output_type": "stream",
          "text": [
            "Epoch: 85: 100%|██████████| 416/416 [00:43<00:00,  9.55it/s]\n"
          ]
        },
        {
          "name": "stdout",
          "output_type": "stream",
          "text": [
            "WARNING: default feature extractor (InceptionNet V2) is used.\n",
            "WARNING: default feature extractor (InceptionNet V2) is used.\n"
          ]
        },
        {
          "name": "stderr",
          "output_type": "stream",
          "text": [
            "Epoch: 86: 100%|██████████| 416/416 [00:43<00:00,  9.48it/s]\n"
          ]
        },
        {
          "name": "stdout",
          "output_type": "stream",
          "text": [
            "WARNING: default feature extractor (InceptionNet V2) is used.\n",
            "WARNING: default feature extractor (InceptionNet V2) is used.\n"
          ]
        },
        {
          "name": "stderr",
          "output_type": "stream",
          "text": [
            "Epoch: 87: 100%|██████████| 416/416 [00:44<00:00,  9.40it/s]\n"
          ]
        },
        {
          "name": "stdout",
          "output_type": "stream",
          "text": [
            "WARNING: default feature extractor (InceptionNet V2) is used.\n",
            "WARNING: default feature extractor (InceptionNet V2) is used.\n"
          ]
        },
        {
          "name": "stderr",
          "output_type": "stream",
          "text": [
            "Epoch: 88: 100%|██████████| 416/416 [00:44<00:00,  9.38it/s]\n"
          ]
        },
        {
          "name": "stdout",
          "output_type": "stream",
          "text": [
            "WARNING: default feature extractor (InceptionNet V2) is used.\n",
            "WARNING: default feature extractor (InceptionNet V2) is used.\n"
          ]
        },
        {
          "name": "stderr",
          "output_type": "stream",
          "text": [
            "Epoch: 89: 100%|██████████| 416/416 [00:43<00:00,  9.50it/s]\n"
          ]
        },
        {
          "name": "stdout",
          "output_type": "stream",
          "text": [
            "WARNING: default feature extractor (InceptionNet V2) is used.\n",
            "WARNING: default feature extractor (InceptionNet V2) is used.\n"
          ]
        },
        {
          "name": "stderr",
          "output_type": "stream",
          "text": [
            "Epoch: 90: 100%|██████████| 416/416 [00:43<00:00,  9.51it/s]\n"
          ]
        },
        {
          "name": "stdout",
          "output_type": "stream",
          "text": [
            "WARNING: default feature extractor (InceptionNet V2) is used.\n",
            "WARNING: default feature extractor (InceptionNet V2) is used.\n"
          ]
        },
        {
          "name": "stderr",
          "output_type": "stream",
          "text": [
            "Epoch: 91: 100%|██████████| 416/416 [00:45<00:00,  9.11it/s]\n"
          ]
        },
        {
          "name": "stdout",
          "output_type": "stream",
          "text": [
            "WARNING: default feature extractor (InceptionNet V2) is used.\n",
            "WARNING: default feature extractor (InceptionNet V2) is used.\n"
          ]
        },
        {
          "name": "stderr",
          "output_type": "stream",
          "text": [
            "Epoch: 92: 100%|██████████| 416/416 [00:43<00:00,  9.51it/s]\n"
          ]
        },
        {
          "name": "stdout",
          "output_type": "stream",
          "text": [
            "WARNING: default feature extractor (InceptionNet V2) is used.\n",
            "WARNING: default feature extractor (InceptionNet V2) is used.\n"
          ]
        },
        {
          "name": "stderr",
          "output_type": "stream",
          "text": [
            "Epoch: 93: 100%|██████████| 416/416 [00:44<00:00,  9.45it/s]\n"
          ]
        },
        {
          "name": "stdout",
          "output_type": "stream",
          "text": [
            "WARNING: default feature extractor (InceptionNet V2) is used.\n",
            "WARNING: default feature extractor (InceptionNet V2) is used.\n"
          ]
        },
        {
          "name": "stderr",
          "output_type": "stream",
          "text": [
            "Epoch: 94: 100%|██████████| 416/416 [00:44<00:00,  9.45it/s]\n"
          ]
        },
        {
          "name": "stdout",
          "output_type": "stream",
          "text": [
            "WARNING: default feature extractor (InceptionNet V2) is used.\n",
            "WARNING: default feature extractor (InceptionNet V2) is used.\n"
          ]
        },
        {
          "name": "stderr",
          "output_type": "stream",
          "text": [
            "Epoch: 95: 100%|██████████| 416/416 [00:43<00:00,  9.51it/s]\n"
          ]
        },
        {
          "name": "stdout",
          "output_type": "stream",
          "text": [
            "WARNING: default feature extractor (InceptionNet V2) is used.\n",
            "WARNING: default feature extractor (InceptionNet V2) is used.\n"
          ]
        },
        {
          "name": "stderr",
          "output_type": "stream",
          "text": [
            "Epoch: 96: 100%|██████████| 416/416 [00:44<00:00,  9.38it/s]\n"
          ]
        },
        {
          "name": "stdout",
          "output_type": "stream",
          "text": [
            "WARNING: default feature extractor (InceptionNet V2) is used.\n",
            "WARNING: default feature extractor (InceptionNet V2) is used.\n"
          ]
        },
        {
          "name": "stderr",
          "output_type": "stream",
          "text": [
            "Epoch: 97: 100%|██████████| 416/416 [00:43<00:00,  9.53it/s]\n"
          ]
        },
        {
          "name": "stdout",
          "output_type": "stream",
          "text": [
            "WARNING: default feature extractor (InceptionNet V2) is used.\n",
            "WARNING: default feature extractor (InceptionNet V2) is used.\n"
          ]
        },
        {
          "name": "stderr",
          "output_type": "stream",
          "text": [
            "Epoch: 98: 100%|██████████| 416/416 [00:43<00:00,  9.47it/s]\n"
          ]
        },
        {
          "name": "stdout",
          "output_type": "stream",
          "text": [
            "WARNING: default feature extractor (InceptionNet V2) is used.\n",
            "WARNING: default feature extractor (InceptionNet V2) is used.\n"
          ]
        },
        {
          "name": "stderr",
          "output_type": "stream",
          "text": [
            "Epoch: 99: 100%|██████████| 416/416 [00:43<00:00,  9.60it/s]\n"
          ]
        },
        {
          "name": "stdout",
          "output_type": "stream",
          "text": [
            "WARNING: default feature extractor (InceptionNet V2) is used.\n",
            "WARNING: default feature extractor (InceptionNet V2) is used.\n"
          ]
        },
        {
          "name": "stderr",
          "output_type": "stream",
          "text": [
            "Epoch: 100: 100%|██████████| 416/416 [00:43<00:00,  9.50it/s]\n"
          ]
        },
        {
          "name": "stdout",
          "output_type": "stream",
          "text": [
            "WARNING: default feature extractor (InceptionNet V2) is used.\n",
            "WARNING: default feature extractor (InceptionNet V2) is used.\n"
          ]
        }
      ],
      "source": [
        "import torch\n",
        "from torch import nn\n",
        "\n",
        "from torchvision.datasets import GTSRB\n",
        "import torchvision.transforms as T\n",
        "from torch.utils.data import DataLoader\n",
        "import os\n",
        "\n",
        "\n",
        "def collate_fn(data):\n",
        "    images, labels = zip(*data)\n",
        "    images = torch.stack(images, dim=0).float()\n",
        "    labels = torch.tensor(labels).int()\n",
        "    return {'images': images, 'labels': labels}\n",
        "\n",
        "# Убедимся, что код запускается только при выполнении в качестве основной программы\n",
        "if __name__ == '__main__':\n",
        "    os.environ['WANDB_API_KEY'] = 'Your wandb api key'\n",
        "\n",
        "    # Определим преобразования для загрузки данных\n",
        "    transform = T.Compose([\n",
        "        T.Resize(64),\n",
        "        T.CenterCrop(64),\n",
        "        T.ToTensor(),\n",
        "        T.Normalize((0.5, 0.5, 0.5), (0.5, 0.5, 0.5))\n",
        "    ])\n",
        "\n",
        "\n",
        "    # Создадим загрузчик данных\n",
        "    train_data = GTSRB(root=drive_path+\"data/\", split='train', download=True, transform=transform)\n",
        "    train_loader = DataLoader(train_data, batch_size=64, shuffle=True, drop_last=True, num_workers=4, collate_fn=collate_fn)\n",
        "\n",
        "    test_data = GTSRB(root=drive_path+\"data/\", split='test', download=True, transform=transform)\n",
        "    test_loader = DataLoader(test_data, batch_size=64, shuffle=True, drop_last=True, num_workers=4, collate_fn=collate_fn)\n",
        "\n",
        "    # Определим устройство для обучения\n",
        "    DEVICE = torch.device(\"cuda\" if torch.cuda.is_available() else \"cpu\")\n",
        "    print(DEVICE)\n",
        "    # Инициализируем генератор и дискриминатор\n",
        "    model_g = Generator(latent_dim=100).to(DEVICE)\n",
        "    model_d = Discriminator().to(DEVICE)\n",
        "\n",
        "    # Определим функцию потерь и оптимизаторы\n",
        "    criterion = nn.BCELoss()\n",
        "    optimizer_d = torch.optim.Adam(model_d.parameters(), lr=0.0002, betas=(0.5, 0.999))\n",
        "    optimizer_g = torch.optim.Adam(model_g.parameters(), lr=0.0002, betas=(0.5, 0.999))\n",
        "\n",
        "    # Инициализируем тренера\n",
        "    t = Trainer(\n",
        "        run_name='training',\n",
        "        model_discriminator=model_d,\n",
        "        model_generator=model_g,\n",
        "        optimizer_generator=optimizer_g,\n",
        "        optimizer_discriminator=optimizer_d,\n",
        "        criterion=criterion,\n",
        "        train_loader=train_loader,\n",
        "        test_loader=test_loader,\n",
        "        device=DEVICE\n",
        "    )\n",
        "\n",
        "    # Запускаем обучение на 100 эпох\n",
        "    t.train(n_epoch=200)\n"
      ]
    },
    {
      "cell_type": "code",
      "execution_count": null,
      "metadata": {
        "id": "qRzYgN66cJCs"
      },
      "outputs": [],
      "source": [
        "# Save the state dictionaries of the models and the optimizers\n",
        "def save_checkpoint(trainer, filename=\"trained_model_checkpoint_without.pth.tar\"):\n",
        "    state = {\n",
        "        'epoch': trainer.epoch,\n",
        "        'state_dict_generator': trainer.model_g.state_dict(),\n",
        "        'state_dict_discriminator': trainer.model_d.state_dict(),\n",
        "        'optimizer_g': trainer.optimizer_g.state_dict(),\n",
        "        'optimizer_d': trainer.optimizer_d.state_dict(),\n",
        "    }\n",
        "    if trainer.lr_scheduler_g is not None:\n",
        "        state['scheduler_g'] = trainer.lr_scheduler_g.state_dict()\n",
        "    if trainer.lr_scheduler_d is not None:\n",
        "        state['scheduler_d'] = trainer.lr_scheduler_d.state_dict()\n",
        "\n",
        "    torch.save(state, filename)\n",
        "\n",
        "# Example usage:\n",
        "save_checkpoint(t, drive_path+'trained_model_checkpoint_without.pth.tar')\n"
      ]
    },
    {
      "cell_type": "code",
      "execution_count": null,
      "metadata": {
        "id": "LhT_A6xei2su"
      },
      "outputs": [],
      "source": [
        "def load_checkpoint(filename=\"trained_model_checkpoint_without.pth.tar\"):\n",
        "    state = torch.load(filename, map_location=DEVICE)\n",
        "\n",
        "    # Create new instances of models and optimizers\n",
        "    model_g = Generator(latent_dim=100).to(DEVICE)\n",
        "    model_d = Discriminator().to(DEVICE)\n",
        "    optimizer_g = torch.optim.Adam(model_g.parameters(), lr=0.0002, betas=(0.5, 0.999))\n",
        "    optimizer_d = torch.optim.Adam(model_d.parameters(), lr=0.0002, betas=(0.5, 0.999))\n",
        "\n",
        "    # Load the saved state dictionaries\n",
        "    model_g.load_state_dict(state['state_dict_generator'])\n",
        "    model_d.load_state_dict(state['state_dict_discriminator'])\n",
        "    optimizer_g.load_state_dict(state['optimizer_g'])\n",
        "    optimizer_d.load_state_dict(state['optimizer_d'])\n",
        "\n",
        "    # Create a new Trainer instance\n",
        "    t = Trainer(\n",
        "        run_name='resumed_run',\n",
        "        model_generator=model_g,\n",
        "        model_discriminator=model_d,\n",
        "        optimizer_generator=optimizer_g,\n",
        "        optimizer_discriminator=optimizer_d,\n",
        "        criterion=nn.BCELoss(),\n",
        "        train_loader=train_loader,  # Assuming these are available in your scope\n",
        "        test_loader=test_loader,    # Assuming these are available in your scope\n",
        "        device=DEVICE,\n",
        "        start_epoch=state['epoch']\n",
        "    )\n",
        "\n",
        "    # If you saved scheduler states, load them as well\n",
        "    if 'scheduler_g' in state:\n",
        "        # Assume lr_scheduler_g is initialized here as per your training setup\n",
        "        t.lr_scheduler_g.load_state_dict(state['scheduler_g'])\n",
        "    if 'scheduler_d' in state:\n",
        "        # Assume lr_scheduler_d is initialized here as per your training setup\n",
        "        t.lr_scheduler_d.load_state_dict(state['scheduler_d'])\n",
        "\n",
        "    return t\n",
        "\n",
        "# Example usage:\n",
        "t = load_checkpoint(drive_path+\"trained_model_checkpoint_without.pth.tar\")\n"
      ]
    },
    {
      "cell_type": "code",
      "execution_count": null,
      "metadata": {
        "colab": {
          "base_uri": "https://localhost:8080/",
          "height": 85
        },
        "id": "floGi79sYVRA",
        "outputId": "6e842005-4c14-4545-a991-6e87581f7a04"
      },
      "outputs": [
        {
          "data": {
            "image/png": "[encoded data removed]",
            "text/plain": [
              "<IPython.core.display.Image object>"
            ]
          },
          "execution_count": 782,
          "metadata": {},
          "output_type": "execute_result"
        }
      ],
      "source": [
        "# Assuming you've already defined the Generator class and DEVICE is set\n",
        "DEVICE = torch.device(\"cuda\" if torch.cuda.is_available() else \"cpu\")\n",
        "\n",
        "import numpy as np\n",
        "# After training is complete\n",
        "interpolated_grid, image_path = t.interpolate_and_generate(steps=8)\n",
        "# Show the interpolated image grid\n",
        "from IPython.display import Image\n",
        "Image(image_path)\n"
      ]
    }
  ],
  "metadata": {
    "accelerator": "GPU",
    "colab": {
      "gpuType": "A100",
      "machine_shape": "hm",
      "provenance": []
    },
    "kernelspec": {
      "display_name": "Python 3",
      "name": "python3"
    },
    "language_info": {
      "name": "python"
    }
  },
  "nbformat": 4,
  "nbformat_minor": 0
}
