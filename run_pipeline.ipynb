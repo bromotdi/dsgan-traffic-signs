{
 "cells": [
  {
   "cell_type": "code",
   "execution_count": 1,
   "metadata": {},
   "outputs": [],
   "source": [
    "import torch\n",
    "from torch import nn\n",
    "\n",
    "from torchvision.datasets import GTSRB\n",
    "import torchvision.transforms as T\n",
    "from torch.utils.data import DataLoader\n",
    "\n",
    "transform = T.Compose([\n",
    "    T.Resize(64),\n",
    "    T.CenterCrop(64),\n",
    "    T.ToTensor(),\n",
    "    T.Normalize((0.5, 0.5, 0.5), (0.5, 0.5, 0.5))\n",
    "])\n",
    "\n",
    "def collate_fn(data):\n",
    "    images, labels = zip(*data)\n",
    "    images = torch.stack(images, dim=0).float()\n",
    "    labels = torch.tensor(labels).int()\n",
    "    return {'images': images, 'labels': labels}\n",
    "\n",
    "train_data = GTSRB(root='data', split='test', download=True, transform=transform)\n",
    "train_loader = DataLoader(train_data, batch_size=8, shuffle=True, drop_last=True, num_workers=4, collate_fn=collate_fn)\n",
    "test_loader = DataLoader(\n",
    "    torch.utils.data.Subset(train_data, list(range(1000))), \n",
    "    batch_size=8, shuffle=False, drop_last=False, num_workers=4, collate_fn=collate_fn\n",
    ")"
   ]
  },
  {
   "cell_type": "code",
   "execution_count": 2,
   "metadata": {},
   "outputs": [
    {
     "data": {
      "text/plain": [
       "1000"
      ]
     },
     "execution_count": 2,
     "metadata": {},
     "output_type": "execute_result"
    }
   ],
   "source": [
    "len(test_loader.dataset)"
   ]
  },
  {
   "cell_type": "code",
   "execution_count": null,
   "metadata": {},
   "outputs": [],
   "source": [
    "import torchvision.utils as vutils\n",
    "import matplotlib.pyplot as plt\n",
    "import torchvision\n",
    "\n",
    "batch = next(iter(train_loader))\n",
    "\n",
    "grid = vutils.make_grid(batch['images'], nrow=8, padding=2, normalize=True)\n",
    "plt.imshow(torchvision.transforms.functional.to_pil_image(grid))"
   ]
  },
  {
   "cell_type": "code",
   "execution_count": 4,
   "metadata": {},
   "outputs": [],
   "source": [
    "from src.model.dcgan.discriminator import Discriminator\n",
    "from src.model.dcgan.generator import Generator\n",
    "\n",
    "DEVICE = torch.device(\"cuda\" if torch.cuda.is_available() else \"cpu\")\n",
    "\n",
    "model_g = Generator(latent_dim=100)\n",
    "model_d = Discriminator()\n",
    "model_g = model_g.to(DEVICE)\n",
    "model_d = model_d.to(DEVICE)\n",
    "\n",
    "criterion = nn.BCELoss()\n",
    "optimizer_d = torch.optim.Adam(model_d.parameters(), lr=0.0002, betas=(0.5, 0.999))\n",
    "optimizer_g = torch.optim.Adam(model_g.parameters(), lr=0.0002, betas=(0.5, 0.999))"
   ]
  },
  {
   "cell_type": "code",
   "execution_count": null,
   "metadata": {},
   "outputs": [],
   "source": [
    "from src.utils.trainer import Trainer\n",
    "import os\n",
    "\n",
    "os.environ['WANDB_API_KEY'] = 'Your wandb api key'\n",
    "\n",
    "t = Trainer(\n",
    "    run_name='demo_run',\n",
    "    model_discriminator=model_d,\n",
    "    model_generator=model_g,\n",
    "    optimizer_generator=optimizer_g,\n",
    "    optimizer_discriminator=optimizer_d,\n",
    "    criterion=criterion,\n",
    "    train_loader=train_loader,\n",
    "    test_loader=test_loader,\n",
    "    device=DEVICE\n",
    ")\n",
    "t.train(n_epoch=100)"
   ]
  }
 ],
 "metadata": {
  "kernelspec": {
   "display_name": ".venv",
   "language": "python",
   "name": "python3"
  },
  "language_info": {
   "codemirror_mode": {
    "name": "ipython",
    "version": 3
   },
   "file_extension": ".py",
   "mimetype": "text/x-python",
   "name": "python",
   "nbconvert_exporter": "python",
   "pygments_lexer": "ipython3",
   "version": "3.11.5"
  }
 },
 "nbformat": 4,
 "nbformat_minor": 2
}
